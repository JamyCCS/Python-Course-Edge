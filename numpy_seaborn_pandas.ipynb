{
  "nbformat": 4,
  "nbformat_minor": 0,
  "metadata": {
    "colab": {
      "provenance": [],
      "include_colab_link": true
    },
    "kernelspec": {
      "name": "python3",
      "display_name": "Python 3"
    },
    "language_info": {
      "name": "python"
    }
  },
  "cells": [
    {
      "cell_type": "markdown",
      "metadata": {
        "id": "view-in-github",
        "colab_type": "text"
      },
      "source": [
        "<a href=\"https://colab.research.google.com/github/JamyCCS/Python-Course-Edge/blob/main/numpy_seaborn_pandas.ipynb\" target=\"_parent\"><img src=\"https://colab.research.google.com/assets/colab-badge.svg\" alt=\"Open In Colab\"/></a>"
      ]
    },
    {
      "cell_type": "code",
      "execution_count": null,
      "metadata": {
        "id": "8WAPVdgNHDO1"
      },
      "outputs": [],
      "source": [
        "import numpy as np"
      ]
    },
    {
      "cell_type": "code",
      "source": [
        "lst = [1,2,3,4]\n",
        "print(lst)"
      ],
      "metadata": {
        "colab": {
          "base_uri": "https://localhost:8080/"
        },
        "id": "sDhWX1upHNyD",
        "outputId": "ad7cb2f0-05e1-4ea5-ef23-df3b946d85d7"
      },
      "execution_count": null,
      "outputs": [
        {
          "output_type": "stream",
          "name": "stdout",
          "text": [
            "[1, 2, 3, 4]\n"
          ]
        }
      ]
    },
    {
      "cell_type": "code",
      "source": [
        "a= np.array(lst)\n",
        "print('1D array =')\n",
        "print(lst)"
      ],
      "metadata": {
        "colab": {
          "base_uri": "https://localhost:8080/"
        },
        "id": "tPVsubVBHUz6",
        "outputId": "67ae6fb3-c74c-4f21-e293-65daa7d7d41b"
      },
      "execution_count": null,
      "outputs": [
        {
          "output_type": "stream",
          "name": "stdout",
          "text": [
            "1D array =\n",
            "[1, 2, 3, 4]\n"
          ]
        }
      ]
    },
    {
      "cell_type": "code",
      "source": [
        "b= np.array([[1,2,3],[3,4,5]])\n",
        "print(b)"
      ],
      "metadata": {
        "colab": {
          "base_uri": "https://localhost:8080/"
        },
        "id": "_rOk6HKiHgtj",
        "outputId": "0216d16c-8ec8-4696-ea34-b3e6844010a1"
      },
      "execution_count": null,
      "outputs": [
        {
          "output_type": "stream",
          "name": "stdout",
          "text": [
            "[[1 2 3]\n",
            " [3 4 5]]\n"
          ]
        }
      ]
    },
    {
      "cell_type": "code",
      "source": [
        "b= np.array([[[1,2,3],[3,4,5]],[[6,7,8],[9,10,11]]])\n",
        "print(b)"
      ],
      "metadata": {
        "colab": {
          "base_uri": "https://localhost:8080/"
        },
        "id": "Rib2mgE9HsgQ",
        "outputId": "7dd254cf-cedf-4bfc-c4b2-ba491824c95d"
      },
      "execution_count": null,
      "outputs": [
        {
          "output_type": "stream",
          "name": "stdout",
          "text": [
            "[[[ 1  2  3]\n",
            "  [ 3  4  5]]\n",
            "\n",
            " [[ 6  7  8]\n",
            "  [ 9 10 11]]]\n"
          ]
        }
      ]
    },
    {
      "cell_type": "code",
      "source": [
        "type(a)"
      ],
      "metadata": {
        "colab": {
          "base_uri": "https://localhost:8080/"
        },
        "id": "-uQIEHrNHwq5",
        "outputId": "d46400b6-4369-4411-e042-35821cd81b14"
      },
      "execution_count": null,
      "outputs": [
        {
          "output_type": "execute_result",
          "data": {
            "text/plain": [
              "numpy.ndarray"
            ]
          },
          "metadata": {},
          "execution_count": 7
        }
      ]
    },
    {
      "cell_type": "code",
      "source": [
        "type(b)"
      ],
      "metadata": {
        "colab": {
          "base_uri": "https://localhost:8080/"
        },
        "id": "DzkHLHtfIIs_",
        "outputId": "a7d8251b-50c1-4285-a795-f4b591ecfb99"
      },
      "execution_count": null,
      "outputs": [
        {
          "output_type": "execute_result",
          "data": {
            "text/plain": [
              "numpy.ndarray"
            ]
          },
          "metadata": {},
          "execution_count": 8
        }
      ]
    },
    {
      "cell_type": "code",
      "source": [
        "print(a.size)\n",
        "print(b.size)"
      ],
      "metadata": {
        "colab": {
          "base_uri": "https://localhost:8080/"
        },
        "id": "eVGEEqZ9IMXz",
        "outputId": "dca21f28-8f16-4d98-df55-03525a465354"
      },
      "execution_count": null,
      "outputs": [
        {
          "output_type": "stream",
          "name": "stdout",
          "text": [
            "4\n",
            "12\n"
          ]
        }
      ]
    },
    {
      "cell_type": "code",
      "source": [
        "#shape(row,col)\n",
        "print(b.shape)"
      ],
      "metadata": {
        "colab": {
          "base_uri": "https://localhost:8080/"
        },
        "id": "5nGEqXY-IchZ",
        "outputId": "2bf30d75-8c12-48db-e71e-e04e36f2eb2e"
      },
      "execution_count": null,
      "outputs": [
        {
          "output_type": "stream",
          "name": "stdout",
          "text": [
            "(2, 2, 3)\n"
          ]
        }
      ]
    },
    {
      "cell_type": "code",
      "source": [
        "print(a.dtype)"
      ],
      "metadata": {
        "colab": {
          "base_uri": "https://localhost:8080/"
        },
        "id": "pcdpds6cJwWx",
        "outputId": "22ebcef7-08ba-4470-a4d9-73d94aa1146d"
      },
      "execution_count": null,
      "outputs": [
        {
          "output_type": "stream",
          "name": "stdout",
          "text": [
            "int64\n"
          ]
        }
      ]
    },
    {
      "cell_type": "code",
      "source": [
        "print(b)"
      ],
      "metadata": {
        "colab": {
          "base_uri": "https://localhost:8080/"
        },
        "id": "g1IiqchDKUZp",
        "outputId": "8e4fff81-b54e-4ba4-ce01-10ef17679bcf"
      },
      "execution_count": null,
      "outputs": [
        {
          "output_type": "stream",
          "name": "stdout",
          "text": [
            "[[[ 1  2  3]\n",
            "  [ 3  4  5]]\n",
            "\n",
            " [[ 6  7  8]\n",
            "  [ 9 10 11]]]\n"
          ]
        }
      ]
    },
    {
      "cell_type": "code",
      "source": [
        "b.transpose()"
      ],
      "metadata": {
        "colab": {
          "base_uri": "https://localhost:8080/"
        },
        "id": "RVAffa2LJ-VF",
        "outputId": "f9c854cc-7d04-4591-bd23-4c24e026db4d"
      },
      "execution_count": null,
      "outputs": [
        {
          "output_type": "execute_result",
          "data": {
            "text/plain": [
              "array([[[ 1,  6],\n",
              "        [ 3,  9]],\n",
              "\n",
              "       [[ 2,  7],\n",
              "        [ 4, 10]],\n",
              "\n",
              "       [[ 3,  8],\n",
              "        [ 5, 11]]])"
            ]
          },
          "metadata": {},
          "execution_count": 13
        }
      ]
    },
    {
      "cell_type": "code",
      "source": [
        "c=np.array([[1,2,3],[5,6,7]])\n",
        "print(c)\n",
        "print(c.shape)\n",
        "c.transpose()"
      ],
      "metadata": {
        "colab": {
          "base_uri": "https://localhost:8080/"
        },
        "id": "SXTmoIzuK47L",
        "outputId": "7716fb16-bcc1-47b2-a9aa-9ee9a2e46c9b"
      },
      "execution_count": null,
      "outputs": [
        {
          "output_type": "stream",
          "name": "stdout",
          "text": [
            "[[1 2 3]\n",
            " [5 6 7]]\n",
            "(2, 3)\n"
          ]
        },
        {
          "output_type": "execute_result",
          "data": {
            "text/plain": [
              "array([[1, 5],\n",
              "       [2, 6],\n",
              "       [3, 7]])"
            ]
          },
          "metadata": {},
          "execution_count": 14
        }
      ]
    },
    {
      "cell_type": "code",
      "source": [
        "#np.empty((rows,col),dtype=)\n",
        "np.empty((4,3),dtype=str)"
      ],
      "metadata": {
        "colab": {
          "base_uri": "https://localhost:8080/"
        },
        "id": "q7Z7nrQgLqNc",
        "outputId": "ce8b13f4-c667-45d7-f02d-c62a82f61940"
      },
      "execution_count": null,
      "outputs": [
        {
          "output_type": "execute_result",
          "data": {
            "text/plain": [
              "array([['', '', ''],\n",
              "       ['', '', ''],\n",
              "       ['', '', ''],\n",
              "       ['', '', '']], dtype='<U1')"
            ]
          },
          "metadata": {},
          "execution_count": 15
        }
      ]
    },
    {
      "cell_type": "code",
      "source": [
        "np.ones((5,4),dtype=bool)"
      ],
      "metadata": {
        "colab": {
          "base_uri": "https://localhost:8080/"
        },
        "id": "rBst5wypMP2W",
        "outputId": "47756108-994b-4ac0-aa6a-6e558f10d05c"
      },
      "execution_count": null,
      "outputs": [
        {
          "output_type": "execute_result",
          "data": {
            "text/plain": [
              "array([[ True,  True,  True,  True],\n",
              "       [ True,  True,  True,  True],\n",
              "       [ True,  True,  True,  True],\n",
              "       [ True,  True,  True,  True],\n",
              "       [ True,  True,  True,  True]])"
            ]
          },
          "metadata": {},
          "execution_count": 16
        }
      ]
    },
    {
      "cell_type": "code",
      "source": [
        "np.zeros((5,4),dtype=int)"
      ],
      "metadata": {
        "colab": {
          "base_uri": "https://localhost:8080/"
        },
        "id": "bQIv41P_NKC7",
        "outputId": "47e2551d-8585-4aff-f481-e80c7980f963"
      },
      "execution_count": null,
      "outputs": [
        {
          "output_type": "execute_result",
          "data": {
            "text/plain": [
              "array([[0, 0, 0, 0],\n",
              "       [0, 0, 0, 0],\n",
              "       [0, 0, 0, 0],\n",
              "       [0, 0, 0, 0],\n",
              "       [0, 0, 0, 0]])"
            ]
          },
          "metadata": {},
          "execution_count": 17
        }
      ]
    },
    {
      "cell_type": "code",
      "source": [],
      "metadata": {
        "id": "Xu0u06k8M_sX"
      },
      "execution_count": null,
      "outputs": []
    },
    {
      "cell_type": "markdown",
      "source": [
        "##Numpy Metthod"
      ],
      "metadata": {
        "id": "HCD7_wmJNWVg"
      }
    },
    {
      "cell_type": "code",
      "source": [
        "#arange\n",
        "#np.arange(start,end,step)\n",
        "a= np.arange(1,20)\n",
        "print(a)"
      ],
      "metadata": {
        "colab": {
          "base_uri": "https://localhost:8080/"
        },
        "id": "gh9NmdfUNYZ8",
        "outputId": "6e63cc8c-9c43-4481-a48c-e945f5895ec4"
      },
      "execution_count": null,
      "outputs": [
        {
          "output_type": "stream",
          "name": "stdout",
          "text": [
            "[ 1  2  3  4  5  6  7  8  9 10 11 12 13 14 15 16 17 18 19]\n"
          ]
        }
      ]
    },
    {
      "cell_type": "code",
      "source": [
        "a= np.arange(2,20,2)\n",
        "print(a)"
      ],
      "metadata": {
        "colab": {
          "base_uri": "https://localhost:8080/"
        },
        "id": "ioUG0gorOgWX",
        "outputId": "901d3c30-e03e-459a-ff56-1ffd1a42077e"
      },
      "execution_count": null,
      "outputs": [
        {
          "output_type": "stream",
          "name": "stdout",
          "text": [
            "[ 2  4  6  8 10 12 14 16 18]\n"
          ]
        }
      ]
    },
    {
      "cell_type": "code",
      "source": [
        "c=np.arange(1,100,3)\n",
        "\n"
      ],
      "metadata": {
        "id": "Eq-hbQr9O1Bm"
      },
      "execution_count": null,
      "outputs": []
    },
    {
      "cell_type": "code",
      "source": [
        "#flatten\n",
        "c.flatten()\n"
      ],
      "metadata": {
        "colab": {
          "base_uri": "https://localhost:8080/"
        },
        "id": "Mo94i742PyJw",
        "outputId": "5d4756d5-8719-49d3-dbed-029267b4a8d2"
      },
      "execution_count": null,
      "outputs": [
        {
          "output_type": "execute_result",
          "data": {
            "text/plain": [
              "array([ 1,  4,  7, 10, 13, 16, 19, 22, 25, 28, 31, 34, 37, 40, 43, 46, 49,\n",
              "       52, 55, 58, 61, 64, 67, 70, 73, 76, 79, 82, 85, 88, 91, 94, 97])"
            ]
          },
          "metadata": {},
          "execution_count": 21
        }
      ]
    },
    {
      "cell_type": "markdown",
      "source": [
        "#Numpy Array Slicing"
      ],
      "metadata": {
        "id": "E7YcnxKSSmpK"
      }
    },
    {
      "cell_type": "markdown",
      "source": [],
      "metadata": {
        "id": "8XPeWB8PWQNK"
      }
    },
    {
      "cell_type": "code",
      "source": [
        "e=c.reshape((3,1,11))\n",
        "print(e)"
      ],
      "metadata": {
        "colab": {
          "base_uri": "https://localhost:8080/"
        },
        "id": "VFHs-KnkVoxi",
        "outputId": "675588a3-c047-4464-9f54-004b9c6bac94"
      },
      "execution_count": null,
      "outputs": [
        {
          "output_type": "stream",
          "name": "stdout",
          "text": [
            "[[[ 1  4  7 10 13 16 19 22 25 28 31]]\n",
            "\n",
            " [[34 37 40 43 46 49 52 55 58 61 64]]\n",
            "\n",
            " [[67 70 73 76 79 82 85 88 91 94 97]]]\n"
          ]
        }
      ]
    },
    {
      "cell_type": "code",
      "source": [
        "e[0:2,:1,3:5]"
      ],
      "metadata": {
        "colab": {
          "base_uri": "https://localhost:8080/"
        },
        "id": "J9TaDzJxZ9Oa",
        "outputId": "31924dda-5ca8-4174-c2d6-cf58ec37d94d"
      },
      "execution_count": null,
      "outputs": [
        {
          "output_type": "execute_result",
          "data": {
            "text/plain": [
              "array([[[10, 13]],\n",
              "\n",
              "       [[43, 46]]])"
            ]
          },
          "metadata": {},
          "execution_count": 33
        }
      ]
    },
    {
      "cell_type": "markdown",
      "source": [
        "#add , siub,mul,div"
      ],
      "metadata": {
        "id": "R9Sq21g1aRqa"
      }
    },
    {
      "cell_type": "code",
      "source": [
        "a=np.array([[1,2,3],[4,5,6],[70,8,9]])\n",
        "b=np.array([[11,21,31],[41,51,61],[71,81,91]])\n",
        "print(a+b)\n",
        "np.add(a,b)\n",
        "np.subtract(b,a)#b-a"
      ],
      "metadata": {
        "colab": {
          "base_uri": "https://localhost:8080/"
        },
        "id": "I__8UZgoaTkW",
        "outputId": "31e59037-16cd-4240-ba6e-b6b7474b3709"
      },
      "execution_count": null,
      "outputs": [
        {
          "output_type": "stream",
          "name": "stdout",
          "text": [
            "[[ 12  23  34]\n",
            " [ 45  56  67]\n",
            " [141  89 100]]\n"
          ]
        },
        {
          "output_type": "execute_result",
          "data": {
            "text/plain": [
              "array([[10, 19, 28],\n",
              "       [37, 46, 55],\n",
              "       [ 1, 73, 82]])"
            ]
          },
          "metadata": {},
          "execution_count": 134
        }
      ]
    },
    {
      "cell_type": "code",
      "source": [
        "np.multiply(a,b)#element multiply"
      ],
      "metadata": {
        "colab": {
          "base_uri": "https://localhost:8080/"
        },
        "id": "KMH1jxlpbJry",
        "outputId": "aca57ea9-e4eb-4b75-bba2-1f74f8df83ad"
      },
      "execution_count": null,
      "outputs": [
        {
          "output_type": "execute_result",
          "data": {
            "text/plain": [
              "array([[  11,   42,   93],\n",
              "       [ 164,  255,  366],\n",
              "       [4970,  648,  819]])"
            ]
          },
          "metadata": {},
          "execution_count": 135
        }
      ]
    },
    {
      "cell_type": "code",
      "source": [
        "a@b#matrix multiply(3*3)\n",
        "                  # (3*3)"
      ],
      "metadata": {
        "colab": {
          "base_uri": "https://localhost:8080/"
        },
        "id": "7eBM_UqbbOnK",
        "outputId": "3da02761-cafa-452e-dc41-5f91f654d4a3"
      },
      "execution_count": null,
      "outputs": [
        {
          "output_type": "execute_result",
          "data": {
            "text/plain": [
              "array([[ 306,  366,  426],\n",
              "       [ 675,  825,  975],\n",
              "       [1737, 2607, 3477]])"
            ]
          },
          "metadata": {},
          "execution_count": 136
        }
      ]
    },
    {
      "cell_type": "code",
      "source": [
        "np.divide(a,b)"
      ],
      "metadata": {
        "colab": {
          "base_uri": "https://localhost:8080/"
        },
        "id": "tz5qb3BEbmFf",
        "outputId": "69fc79e7-9d1f-45ca-e4b8-acc4536c17a7"
      },
      "execution_count": null,
      "outputs": [
        {
          "output_type": "execute_result",
          "data": {
            "text/plain": [
              "array([[0.09090909, 0.0952381 , 0.09677419],\n",
              "       [0.09756098, 0.09803922, 0.09836066],\n",
              "       [0.98591549, 0.09876543, 0.0989011 ]])"
            ]
          },
          "metadata": {},
          "execution_count": 137
        }
      ]
    },
    {
      "cell_type": "code",
      "source": [
        "a.dot(b)#matrix multiply"
      ],
      "metadata": {
        "colab": {
          "base_uri": "https://localhost:8080/"
        },
        "id": "oGog6k7pbrep",
        "outputId": "bf6fe76e-3d79-448a-b0e6-8096f0de12a6"
      },
      "execution_count": null,
      "outputs": [
        {
          "output_type": "execute_result",
          "data": {
            "text/plain": [
              "array([[ 306,  366,  426],\n",
              "       [ 675,  825,  975],\n",
              "       [1737, 2607, 3477]])"
            ]
          },
          "metadata": {},
          "execution_count": 138
        }
      ]
    },
    {
      "cell_type": "code",
      "source": [
        "a.max()"
      ],
      "metadata": {
        "colab": {
          "base_uri": "https://localhost:8080/"
        },
        "id": "iwWeT9Kwb4yJ",
        "outputId": "ec853495-7354-44a8-dfac-a58d51a70447"
      },
      "execution_count": null,
      "outputs": [
        {
          "output_type": "execute_result",
          "data": {
            "text/plain": [
              "70"
            ]
          },
          "metadata": {},
          "execution_count": 139
        }
      ]
    },
    {
      "cell_type": "code",
      "source": [
        "a.min()"
      ],
      "metadata": {
        "colab": {
          "base_uri": "https://localhost:8080/"
        },
        "id": "xqDb0dd7b88J",
        "outputId": "1252e655-2711-4fd6-b35a-23bf19e7a8a9"
      },
      "execution_count": null,
      "outputs": [
        {
          "output_type": "execute_result",
          "data": {
            "text/plain": [
              "1"
            ]
          },
          "metadata": {},
          "execution_count": 140
        }
      ]
    },
    {
      "cell_type": "code",
      "source": [
        "print(a.argmin())#max value er index number ber kora\n",
        "print(a.argmax())"
      ],
      "metadata": {
        "colab": {
          "base_uri": "https://localhost:8080/"
        },
        "id": "CY1uwEORb_mZ",
        "outputId": "dacd8b87-fe52-4468-9460-e3a5ba0cc581"
      },
      "execution_count": null,
      "outputs": [
        {
          "output_type": "stream",
          "name": "stdout",
          "text": [
            "0\n",
            "6\n"
          ]
        }
      ]
    },
    {
      "cell_type": "code",
      "source": [
        "np.sum(a) #a=np.array([[1,2,3],\n",
        "                       [4,5,6],\n",
        "                      [70,8,9]])"
      ],
      "metadata": {
        "colab": {
          "base_uri": "https://localhost:8080/"
        },
        "id": "M_47MAPGc8Ti",
        "outputId": "4d69327a-cd7d-4615-e29d-3cbbbabbbf52"
      },
      "execution_count": null,
      "outputs": [
        {
          "output_type": "execute_result",
          "data": {
            "text/plain": [
              "108"
            ]
          },
          "metadata": {},
          "execution_count": 147
        }
      ]
    },
    {
      "cell_type": "code",
      "source": [
        "np.sum(a,axis=0)"
      ],
      "metadata": {
        "colab": {
          "base_uri": "https://localhost:8080/"
        },
        "id": "Fy-TY_OmdJug",
        "outputId": "340dd6fc-057d-4772-d0d4-15ba5a613807"
      },
      "execution_count": null,
      "outputs": [
        {
          "output_type": "execute_result",
          "data": {
            "text/plain": [
              "array([75, 15, 18])"
            ]
          },
          "metadata": {},
          "execution_count": 148
        }
      ]
    },
    {
      "cell_type": "code",
      "source": [
        "np.sum(a,axis=1)"
      ],
      "metadata": {
        "colab": {
          "base_uri": "https://localhost:8080/"
        },
        "id": "vkAyh_Z-dQsh",
        "outputId": "fe825219-05d1-4962-bc12-743edb352242"
      },
      "execution_count": null,
      "outputs": [
        {
          "output_type": "execute_result",
          "data": {
            "text/plain": [
              "array([ 6, 15, 87])"
            ]
          },
          "metadata": {},
          "execution_count": 150
        }
      ]
    },
    {
      "cell_type": "code",
      "source": [
        "e"
      ],
      "metadata": {
        "colab": {
          "base_uri": "https://localhost:8080/"
        },
        "id": "Xml2nJgJeKNu",
        "outputId": "ae70c43c-d5e2-49e0-c79e-4057dd477aca"
      },
      "execution_count": null,
      "outputs": [
        {
          "output_type": "execute_result",
          "data": {
            "text/plain": [
              "array([[[ 1,  4,  7, 10, 13, 16, 19, 22, 25, 28, 31]],\n",
              "\n",
              "       [[34, 37, 40, 43, 46, 49, 52, 55, 58, 61, 64]],\n",
              "\n",
              "       [[67, 70, 73, 76, 79, 82, 85, 88, 91, 94, 97]]])"
            ]
          },
          "metadata": {},
          "execution_count": 34
        }
      ]
    },
    {
      "cell_type": "code",
      "source": [
        "np.sum(e,axis=2)"
      ],
      "metadata": {
        "colab": {
          "base_uri": "https://localhost:8080/"
        },
        "id": "nuEOdLsneObj",
        "outputId": "adb4a0f9-8cd7-4f7f-a173-39ba75b4b8c4"
      },
      "execution_count": null,
      "outputs": [
        {
          "output_type": "execute_result",
          "data": {
            "text/plain": [
              "array([[176],\n",
              "       [539],\n",
              "       [902]])"
            ]
          },
          "metadata": {},
          "execution_count": 156
        }
      ]
    },
    {
      "cell_type": "code",
      "source": [
        "np.sum(e,axis=1)"
      ],
      "metadata": {
        "id": "2LO2d-UYepIO",
        "outputId": "b1681d97-ea5a-4420-9ebe-56a7047dd8d1",
        "colab": {
          "base_uri": "https://localhost:8080/"
        }
      },
      "execution_count": null,
      "outputs": [
        {
          "output_type": "execute_result",
          "data": {
            "text/plain": [
              "array([[ 1,  4,  7, 10, 13, 16, 19, 22, 25, 28, 31],\n",
              "       [34, 37, 40, 43, 46, 49, 52, 55, 58, 61, 64],\n",
              "       [67, 70, 73, 76, 79, 82, 85, 88, 91, 94, 97]])"
            ]
          },
          "metadata": {},
          "execution_count": 153
        }
      ]
    },
    {
      "cell_type": "code",
      "source": [
        "np.sum(e,axis=0)"
      ],
      "metadata": {
        "id": "TTacnesMerfc",
        "outputId": "01d20ab2-854b-4807-e469-27515f515b19",
        "colab": {
          "base_uri": "https://localhost:8080/"
        }
      },
      "execution_count": null,
      "outputs": [
        {
          "output_type": "execute_result",
          "data": {
            "text/plain": [
              "array([[102, 111, 120, 129, 138, 147, 156, 165, 174, 183, 192]])"
            ]
          },
          "metadata": {},
          "execution_count": 37
        }
      ]
    },
    {
      "cell_type": "code",
      "source": [
        "np.mean(e) # mean all elements"
      ],
      "metadata": {
        "colab": {
          "base_uri": "https://localhost:8080/"
        },
        "id": "vicr_gVcf21x",
        "outputId": "fcec63b0-218c-4c44-98c5-73dbf652d5f7"
      },
      "execution_count": null,
      "outputs": [
        {
          "output_type": "execute_result",
          "data": {
            "text/plain": [
              "49.0"
            ]
          },
          "metadata": {},
          "execution_count": 157
        }
      ]
    },
    {
      "cell_type": "code",
      "source": [
        "np.sqrt(a) # each elements"
      ],
      "metadata": {
        "colab": {
          "base_uri": "https://localhost:8080/"
        },
        "id": "zuTlvHbgf8Vo",
        "outputId": "9a2e297f-7f3e-42de-b288-075318345d0c"
      },
      "execution_count": null,
      "outputs": [
        {
          "output_type": "execute_result",
          "data": {
            "text/plain": [
              "array([[1.        , 1.41421356, 1.73205081],\n",
              "       [2.        , 2.23606798, 2.44948974],\n",
              "       [8.36660027, 2.82842712, 3.        ]])"
            ]
          },
          "metadata": {},
          "execution_count": 158
        }
      ]
    },
    {
      "cell_type": "code",
      "source": [
        "np.log(e)#each elemengt"
      ],
      "metadata": {
        "colab": {
          "base_uri": "https://localhost:8080/"
        },
        "id": "2u_5MtYegoXp",
        "outputId": "417c66fb-adba-4c51-ae57-01bdc4326060"
      },
      "execution_count": null,
      "outputs": [
        {
          "output_type": "execute_result",
          "data": {
            "text/plain": [
              "array([[[0.        , 1.38629436, 1.94591015, 2.30258509, 2.56494936,\n",
              "         2.77258872, 2.94443898, 3.09104245, 3.21887582, 3.33220451,\n",
              "         3.4339872 ]],\n",
              "\n",
              "       [[3.52636052, 3.61091791, 3.68887945, 3.76120012, 3.8286414 ,\n",
              "         3.8918203 , 3.95124372, 4.00733319, 4.06044301, 4.11087386,\n",
              "         4.15888308]],\n",
              "\n",
              "       [[4.20469262, 4.24849524, 4.29045944, 4.33073334, 4.36944785,\n",
              "         4.40671925, 4.44265126, 4.47733681, 4.51085951, 4.54329478,\n",
              "         4.57471098]]])"
            ]
          },
          "metadata": {},
          "execution_count": 159
        }
      ]
    },
    {
      "cell_type": "code",
      "source": [
        "np.std(e)"
      ],
      "metadata": {
        "id": "PKa6XAtqgwYw",
        "colab": {
          "base_uri": "https://localhost:8080/"
        },
        "outputId": "ad675132-6011-4b0a-dafd-796dfaa17605"
      },
      "execution_count": null,
      "outputs": [
        {
          "output_type": "execute_result",
          "data": {
            "text/plain": [
              "28.5657137141714"
            ]
          },
          "metadata": {},
          "execution_count": 162
        }
      ]
    },
    {
      "cell_type": "code",
      "source": [
        "np.mean(e,axis=2)"
      ],
      "metadata": {
        "id": "845j9WNIgtno",
        "colab": {
          "base_uri": "https://localhost:8080/"
        },
        "outputId": "a8fc36bd-43c2-434f-fbd2-78d11e2edfd6"
      },
      "execution_count": null,
      "outputs": [
        {
          "output_type": "execute_result",
          "data": {
            "text/plain": [
              "array([[16.],\n",
              "       [49.],\n",
              "       [82.]])"
            ]
          },
          "metadata": {},
          "execution_count": 161
        }
      ]
    },
    {
      "cell_type": "markdown",
      "source": [
        "#Numpy Trigonmetry Function"
      ],
      "metadata": {
        "id": "KkiNaMjyhWkS"
      }
    },
    {
      "cell_type": "code",
      "source": [
        "import matplotlib.pyplot as plt\n",
        "np.pi"
      ],
      "metadata": {
        "colab": {
          "base_uri": "https://localhost:8080/"
        },
        "id": "cTgIGg--hRmz",
        "outputId": "da541be7-47c2-4c51-f4f2-7edc7e79b352"
      },
      "execution_count": null,
      "outputs": [
        {
          "output_type": "execute_result",
          "data": {
            "text/plain": [
              "3.141592653589793"
            ]
          },
          "metadata": {},
          "execution_count": 163
        }
      ]
    },
    {
      "cell_type": "code",
      "source": [
        "np.sin(np.pi/2*2)#180 degree # 10^-16"
      ],
      "metadata": {
        "colab": {
          "base_uri": "https://localhost:8080/"
        },
        "id": "FJ4oYYF2hvLx",
        "outputId": "0027cfbd-e1c3-4cda-a0fb-dd8728a224a7"
      },
      "execution_count": null,
      "outputs": [
        {
          "output_type": "execute_result",
          "data": {
            "text/plain": [
              "1.2246467991473532e-16"
            ]
          },
          "metadata": {},
          "execution_count": 167
        }
      ]
    },
    {
      "cell_type": "code",
      "source": [
        "np.sin(np.pi/2)#90 degree"
      ],
      "metadata": {
        "colab": {
          "base_uri": "https://localhost:8080/"
        },
        "id": "WqVrjtX5h7AI",
        "outputId": "d866831d-9c39-4ac2-cb9c-3be3896172a1"
      },
      "execution_count": null,
      "outputs": [
        {
          "output_type": "execute_result",
          "data": {
            "text/plain": [
              "1.0"
            ]
          },
          "metadata": {},
          "execution_count": 165
        }
      ]
    },
    {
      "cell_type": "code",
      "source": [
        "np.tan(0)"
      ],
      "metadata": {
        "colab": {
          "base_uri": "https://localhost:8080/"
        },
        "id": "fYAxe-2giR9a",
        "outputId": "e48dc655-d59c-4ef6-aa44-ccd51f430295"
      },
      "execution_count": null,
      "outputs": [
        {
          "output_type": "execute_result",
          "data": {
            "text/plain": [
              "0.0"
            ]
          },
          "metadata": {},
          "execution_count": 168
        }
      ]
    },
    {
      "cell_type": "code",
      "source": [
        "np.tan(np.pi/2)"
      ],
      "metadata": {
        "colab": {
          "base_uri": "https://localhost:8080/"
        },
        "id": "sAv4KKsdiWJI",
        "outputId": "f2d0cf5b-e984-454c-ab03-90efa4c596b6"
      },
      "execution_count": null,
      "outputs": [
        {
          "output_type": "execute_result",
          "data": {
            "text/plain": [
              "1.633123935319537e+16"
            ]
          },
          "metadata": {},
          "execution_count": 169
        }
      ]
    },
    {
      "cell_type": "code",
      "source": [
        "np.cos(np.pi/6)"
      ],
      "metadata": {
        "colab": {
          "base_uri": "https://localhost:8080/"
        },
        "id": "NYMNmJOVieNq",
        "outputId": "c7d0aaeb-0723-4e3b-f0f7-10e546cb558a"
      },
      "execution_count": null,
      "outputs": [
        {
          "output_type": "execute_result",
          "data": {
            "text/plain": [
              "0.8660254037844387"
            ]
          },
          "metadata": {},
          "execution_count": 170
        }
      ]
    },
    {
      "cell_type": "markdown",
      "source": [
        "#Use matplot in Numpy"
      ],
      "metadata": {
        "id": "DvLiSaYcirWz"
      }
    },
    {
      "cell_type": "code",
      "source": [
        "x= np.arange(1,11)\n",
        "y= np.arange(1,100,10)\n",
        "plt.figure(figsize=(10,10))\n",
        "plt.plot(x,y,'r--')\n",
        "plt.show()"
      ],
      "metadata": {
        "colab": {
          "base_uri": "https://localhost:8080/",
          "height": 830
        },
        "id": "tNAKoFWXipFK",
        "outputId": "7414fad4-e8a5-429f-cc6d-dc506f15c7cd"
      },
      "execution_count": null,
      "outputs": [
        {
          "output_type": "display_data",
          "data": {
            "text/plain": [
              "<Figure size 1000x1000 with 1 Axes>"
            ],
            "image/png": "[encoded data removed]"
          },
          "metadata": {}
        }
      ]
    },
    {
      "cell_type": "code",
      "source": [
        "#sin function\n",
        "x= np.arange(0,2*np.pi , 0.1)\n",
        "y= np.sin(x)\n",
        "z=np.cos(x)\n",
        "print(y)"
      ],
      "metadata": {
        "colab": {
          "base_uri": "https://localhost:8080/"
        },
        "id": "by0FB1iojetS",
        "outputId": "7a5e3847-b56e-4154-b1fa-def648b864aa"
      },
      "execution_count": null,
      "outputs": [
        {
          "output_type": "stream",
          "name": "stdout",
          "text": [
            "[ 0.          0.09983342  0.19866933  0.29552021  0.38941834  0.47942554\n",
            "  0.56464247  0.64421769  0.71735609  0.78332691  0.84147098  0.89120736\n",
            "  0.93203909  0.96355819  0.98544973  0.99749499  0.9995736   0.99166481\n",
            "  0.97384763  0.94630009  0.90929743  0.86320937  0.8084964   0.74570521\n",
            "  0.67546318  0.59847214  0.51550137  0.42737988  0.33498815  0.23924933\n",
            "  0.14112001  0.04158066 -0.05837414 -0.15774569 -0.2555411  -0.35078323\n",
            " -0.44252044 -0.52983614 -0.61185789 -0.68776616 -0.7568025  -0.81827711\n",
            " -0.87157577 -0.91616594 -0.95160207 -0.97753012 -0.993691   -0.99992326\n",
            " -0.99616461 -0.98245261 -0.95892427 -0.92581468 -0.88345466 -0.83226744\n",
            " -0.77276449 -0.70554033 -0.63126664 -0.55068554 -0.46460218 -0.37387666\n",
            " -0.2794155  -0.1821625  -0.0830894 ]\n"
          ]
        }
      ]
    },
    {
      "cell_type": "code",
      "source": [
        "plt.figure(figsize=(6,6))\n",
        "plt.subplot(2,2,2)\n",
        "plt.plot(x,y,'r--')\n",
        "plt.subplot(2,2,1)\n",
        "plt.plot(x,z,'b--')\n",
        "plt.show()"
      ],
      "metadata": {
        "colab": {
          "base_uri": "https://localhost:8080/",
          "height": 270
        },
        "id": "Me97haMhj1YL",
        "outputId": "b088055c-e6fe-4e88-8fcd-0febf242c496"
      },
      "execution_count": null,
      "outputs": [
        {
          "output_type": "display_data",
          "data": {
            "text/plain": [
              "<Figure size 600x600 with 2 Axes>"
            ],
            "image/png": "[encoded data removed]"
          },
          "metadata": {}
        }
      ]
    },
    {
      "cell_type": "markdown",
      "source": [
        "#Numpy Random"
      ],
      "metadata": {
        "id": "HAS3cjI1lg0t"
      }
    },
    {
      "cell_type": "code",
      "source": [
        "np.random.random(3)\n",
        "   #object # function"
      ],
      "metadata": {
        "colab": {
          "base_uri": "https://localhost:8080/"
        },
        "id": "HK_QDQMHlQ9a",
        "outputId": "b1f0f860-5fbe-4d69-af8a-1a24ac38226c"
      },
      "execution_count": null,
      "outputs": [
        {
          "output_type": "execute_result",
          "data": {
            "text/plain": [
              "array([0.85085073, 0.51358197, 0.87412114])"
            ]
          },
          "metadata": {},
          "execution_count": 189
        }
      ]
    },
    {
      "cell_type": "code",
      "source": [
        "np.random.random((2,2,1))"
      ],
      "metadata": {
        "colab": {
          "base_uri": "https://localhost:8080/"
        },
        "id": "sVv60aETltaL",
        "outputId": "8b1bff43-aac5-49ed-b8f1-c9a9964acc85"
      },
      "execution_count": null,
      "outputs": [
        {
          "output_type": "execute_result",
          "data": {
            "text/plain": [
              "array([[[0.22806587],\n",
              "        [0.89973586]],\n",
              "\n",
              "       [[0.28713131],\n",
              "        [0.59251535]]])"
            ]
          },
          "metadata": {},
          "execution_count": 190
        }
      ]
    },
    {
      "cell_type": "code",
      "source": [
        "np.random.randint(10,100)# 10 theke 100 er vitor int value"
      ],
      "metadata": {
        "colab": {
          "base_uri": "https://localhost:8080/"
        },
        "id": "vXK6oOmFmMLh",
        "outputId": "2f1e9382-eaff-4d7a-91fd-eb3be5bd1242"
      },
      "execution_count": null,
      "outputs": [
        {
          "output_type": "execute_result",
          "data": {
            "text/plain": [
              "91"
            ]
          },
          "metadata": {},
          "execution_count": 192
        }
      ]
    },
    {
      "cell_type": "code",
      "source": [
        "np.random.randint(10,100,(2,4))"
      ],
      "metadata": {
        "colab": {
          "base_uri": "https://localhost:8080/"
        },
        "id": "qEzo8W40nlOt",
        "outputId": "addd6e93-09b3-49ec-c4d2-b42a982e985e"
      },
      "execution_count": null,
      "outputs": [
        {
          "output_type": "execute_result",
          "data": {
            "text/plain": [
              "array([[18, 54, 16, 32],\n",
              "       [17, 22, 47, 66]])"
            ]
          },
          "metadata": {},
          "execution_count": 201
        }
      ]
    },
    {
      "cell_type": "code",
      "source": [
        "np.random.rand(1)# rand= float value"
      ],
      "metadata": {
        "colab": {
          "base_uri": "https://localhost:8080/"
        },
        "id": "W_25SqMhmcP6",
        "outputId": "d19e5bcd-b2b6-4de9-e0df-447e8b82a6be"
      },
      "execution_count": null,
      "outputs": [
        {
          "output_type": "execute_result",
          "data": {
            "text/plain": [
              "array([0.02598934])"
            ]
          },
          "metadata": {},
          "execution_count": 194
        }
      ]
    },
    {
      "cell_type": "code",
      "source": [
        "random_normal = np.random.randn(3, 3)\n",
        "print(random_normal)"
      ],
      "metadata": {
        "colab": {
          "base_uri": "https://localhost:8080/"
        },
        "id": "oOk5AmXamxMs",
        "outputId": "6a0ad732-5fdd-47cb-eab0-72e113b0ae68"
      },
      "execution_count": null,
      "outputs": [
        {
          "output_type": "stream",
          "name": "stdout",
          "text": [
            "[[-0.15761614 -1.32948534  2.49046032]\n",
            " [-0.72324104  0.20671689  0.26810914]\n",
            " [ 0.28679843 -0.43119388 -0.24059921]]\n"
          ]
        }
      ]
    },
    {
      "cell_type": "code",
      "source": [
        "import numpy as np\n",
        "\n",
        "# 11 থেকে 12 এর মধ্যে এলোমেলো ভাসমান মান\n",
        "random_float = np.random.uniform(11, 12)\n",
        "print(random_float)\n"
      ],
      "metadata": {
        "colab": {
          "base_uri": "https://localhost:8080/"
        },
        "id": "MieIKHuqnagl",
        "outputId": "d52a34f7-6cc6-4948-c651-ef304052028e"
      },
      "execution_count": null,
      "outputs": [
        {
          "output_type": "stream",
          "name": "stdout",
          "text": [
            "11.775848707693996\n"
          ]
        }
      ]
    },
    {
      "cell_type": "code",
      "source": [
        "# 11 থেকে 12 এর মধ্যে ৫টি এলোমেলো ভাসমান মান\n",
        "random_floats = np.random.uniform(11, 12, size=(3,4))\n",
        "print(random_floats)\n"
      ],
      "metadata": {
        "colab": {
          "base_uri": "https://localhost:8080/"
        },
        "id": "PZoLSPu9oLGD",
        "outputId": "ab30b308-9f45-4818-9d3b-78fdc4b2ef19"
      },
      "execution_count": null,
      "outputs": [
        {
          "output_type": "stream",
          "name": "stdout",
          "text": [
            "[[11.9474209  11.21459814 11.53788542 11.59228055]\n",
            " [11.56705242 11.02754482 11.65341633 11.12512105]\n",
            " [11.10071487 11.67572445 11.45636307 11.21630274]]\n"
          ]
        }
      ]
    },
    {
      "cell_type": "code",
      "source": [
        "g=np.arange(1,100)\n",
        "np.random.choice(g)"
      ],
      "metadata": {
        "colab": {
          "base_uri": "https://localhost:8080/"
        },
        "id": "ld9iltgOoPzp",
        "outputId": "478868ba-910b-4c89-e9dd-f08d5b174eac"
      },
      "execution_count": null,
      "outputs": [
        {
          "output_type": "execute_result",
          "data": {
            "text/plain": [
              "72"
            ]
          },
          "metadata": {},
          "execution_count": 208
        }
      ]
    },
    {
      "cell_type": "code",
      "source": [],
      "metadata": {
        "id": "ZYQr_IMyrlqs"
      },
      "execution_count": null,
      "outputs": []
    },
    {
      "cell_type": "markdown",
      "source": [
        "#Numpy String"
      ],
      "metadata": {
        "id": "RWLtZ4R2ooAi"
      }
    },
    {
      "cell_type": "code",
      "source": [
        "s1='My name is JaMy .'\n",
        "s2=\"I am from CUET\""
      ],
      "metadata": {
        "id": "r4V-BZucopyd"
      },
      "execution_count": null,
      "outputs": []
    },
    {
      "cell_type": "code",
      "source": [
        "np.char.add(s1,s2)"
      ],
      "metadata": {
        "colab": {
          "base_uri": "https://localhost:8080/"
        },
        "id": "ptfkTeCwozfr",
        "outputId": "d72aacec-5030-417f-99e4-ef1974bdac19"
      },
      "execution_count": null,
      "outputs": [
        {
          "output_type": "execute_result",
          "data": {
            "text/plain": [
              "array('My name is JaMy .I am from CUET', dtype='<U31')"
            ]
          },
          "metadata": {},
          "execution_count": 218
        }
      ]
    },
    {
      "cell_type": "code",
      "source": [
        "np.char.upper(s1)"
      ],
      "metadata": {
        "colab": {
          "base_uri": "https://localhost:8080/"
        },
        "id": "qBXdUT5do9sp",
        "outputId": "9385332d-0a98-4421-c2fc-139f91f45809"
      },
      "execution_count": null,
      "outputs": [
        {
          "output_type": "execute_result",
          "data": {
            "text/plain": [
              "array('MY NAME IS JAMY .', dtype='<U17')"
            ]
          },
          "metadata": {},
          "execution_count": 219
        }
      ]
    },
    {
      "cell_type": "code",
      "source": [
        "np.char.lower(s2)"
      ],
      "metadata": {
        "colab": {
          "base_uri": "https://localhost:8080/"
        },
        "id": "39Mj1UEVpChK",
        "outputId": "1aedc48e-fe03-4b2f-d954-348ee9d3a5cd"
      },
      "execution_count": null,
      "outputs": [
        {
          "output_type": "execute_result",
          "data": {
            "text/plain": [
              "array('i am from cuet', dtype='<U14')"
            ]
          },
          "metadata": {},
          "execution_count": 220
        }
      ]
    },
    {
      "cell_type": "code",
      "source": [
        "np.char.split(s1)"
      ],
      "metadata": {
        "colab": {
          "base_uri": "https://localhost:8080/"
        },
        "id": "9PhzBIfOpFma",
        "outputId": "1253e7b7-9214-43e7-e2e7-b1bea4d2d346"
      },
      "execution_count": null,
      "outputs": [
        {
          "output_type": "execute_result",
          "data": {
            "text/plain": [
              "array(list(['My', 'name', 'is', 'JaMy', '.']), dtype=object)"
            ]
          },
          "metadata": {},
          "execution_count": 221
        }
      ]
    },
    {
      "cell_type": "code",
      "source": [
        "s1= s1+s2 +'\\nputu\\n I am Trisha'#numpy.char.splitlines একটি ফাংশন যা একটি স্ট্রিং বা স্ট্রিং-এর অ্যারের প্রতিটি উপাদানকে লাইন অনুযায়ী ভাগ করে।\n",
        "#এটি নতুন লাইনের (newline) উপর ভিত্তি করে স্ট্রিং ভাগ করে এবং একটি তালিকা (list) প্রদান করে।\n",
        "\n"
      ],
      "metadata": {
        "id": "AERc2IGtpUj5"
      },
      "execution_count": null,
      "outputs": []
    },
    {
      "cell_type": "code",
      "source": [
        "np.char.splitlines(s1)"
      ],
      "metadata": {
        "colab": {
          "base_uri": "https://localhost:8080/"
        },
        "id": "ile7ViE4pK5J",
        "outputId": "7cb1f7b9-4400-4807-a53c-8c3408e8e946"
      },
      "execution_count": null,
      "outputs": [
        {
          "output_type": "execute_result",
          "data": {
            "text/plain": [
              "array(list(['My name is JaMy .I am from CUETI am from CUET', 'putu', ' I am Trisha']),\n",
              "      dtype=object)"
            ]
          },
          "metadata": {},
          "execution_count": 225
        }
      ]
    },
    {
      "cell_type": "code",
      "source": [
        "\n",
        "print(s1)\n",
        "s1=np.char.replace(s1, 'Trisha','Jamy')\n",
        "print(s1)\n"
      ],
      "metadata": {
        "colab": {
          "base_uri": "https://localhost:8080/"
        },
        "id": "z6HvMcZ5p-G8",
        "outputId": "5b98e993-b69f-4f4f-8a6c-2ae0a6126b4f"
      },
      "execution_count": null,
      "outputs": [
        {
          "output_type": "stream",
          "name": "stdout",
          "text": [
            "My name is JaMy .I am from CUETI am from CUET\n",
            "putu\n",
            " I am Trisha\n",
            "My name is JaMy .I am from CUETI am from CUET\n",
            "putu\n",
            " I am Jamy\n"
          ]
        }
      ]
    },
    {
      "cell_type": "code",
      "source": [
        "print('********Jamy********')"
      ],
      "metadata": {
        "colab": {
          "base_uri": "https://localhost:8080/"
        },
        "id": "TxTx-KF0qbl6",
        "outputId": "23d5b778-c342-43b3-937b-7030f0d2b7db"
      },
      "execution_count": null,
      "outputs": [
        {
          "output_type": "stream",
          "name": "stdout",
          "text": [
            "********Jamy********\n"
          ]
        }
      ]
    },
    {
      "cell_type": "code",
      "source": [
        "print(np.char.center('Jamy',12,'*'))"
      ],
      "metadata": {
        "colab": {
          "base_uri": "https://localhost:8080/"
        },
        "id": "A_v9Gi3Equ_w",
        "outputId": "6d9e4b3f-4616-4bb9-d7a8-bc5ed5018aa5"
      },
      "execution_count": null,
      "outputs": [
        {
          "output_type": "stream",
          "name": "stdout",
          "text": [
            "****Jamy****\n"
          ]
        }
      ]
    },
    {
      "cell_type": "markdown",
      "source": [
        "####PANDAS"
      ],
      "metadata": {
        "id": "UsB9VvXcPRII"
      }
    },
    {
      "cell_type": "markdown",
      "source": [
        "Python-এর **Pandas** একটি জনপ্রিয় লাইব্রেরি, যা ডেটা ম্যানিপুলেশন এবং অ্যানালাইসিসের জন্য ব্যবহৃত হয়। এটি বিশেষ করে টেবুলার ডেটার (যেমন স্প্রেডশিট বা ডাটাবেস টেবিল) উপর কাজ করার জন্য কার্যকর।\n",
        "\n",
        "Pandas মূলত দুটি প্রধান ডেটা স্ট্রাকচার ব্যবহার করে কাজ করে:  \n",
        "\n",
        "### 1. **Series**  \n",
        "- একমাত্রিক ডেটা স্ট্রাকচার, যা Python-এর লিস্ট বা NumPy-এর array-এর মতো।\n",
        "- এটি ইন্ডেক্সড, অর্থাৎ প্রতিটি ডেটা পয়েন্টের জন্য একটি লেবেল থাকে।\n",
        "\n",
        "**উদাহরণ:**\n",
        "```python\n",
        "import pandas as pd\n",
        "\n",
        "# একটি Series তৈরি করা\n",
        "data = [10, 20, 30, 40]\n",
        "series = pd.Series(data)\n",
        "\n",
        "print(series)\n",
        "```\n",
        "আউটপুট:\n",
        "```\n",
        "0    10\n",
        "1    20\n",
        "2    30\n",
        "3    40\n",
        "dtype: int64\n",
        "```\n",
        "\n",
        "### 2. **DataFrame**  \n",
        "- এটি টেবিলের মতো দুই-মাত্রিক ডেটা স্ট্রাকচার, যা সারি এবং কলাম নিয়ে গঠিত।\n",
        "- এটি ডেটাবেস বা স্প্রেডশিটের মতো ডেটা হ্যান্ডল করার জন্য খুবই কার্যকর।\n",
        "\n",
        "**উদাহরণ:**\n",
        "```python\n",
        "# একটি DataFrame তৈরি করা\n",
        "data = {\n",
        "    'Name': ['Alice', 'Bob', 'Charlie'],\n",
        "    'Age': [25, 30, 35],\n",
        "    'City': ['Dhaka', 'Chittagong', 'Khulna']\n",
        "}\n",
        "df = pd.DataFrame(data)\n",
        "\n",
        "print(df)\n",
        "```\n",
        "আউটপুট:\n",
        "```\n",
        "      Name  Age         City\n",
        "0    Alice   25        Dhaka\n",
        "1      Bob   30  Chittagong\n",
        "2  Charlie   35       Khulna\n",
        "```\n",
        "\n",
        "### **Pandas-এর কিছু গুরুত্বপূর্ণ ফিচার:**\n",
        "- **ডেটা লোড এবং সেভ করা:** CSV, Excel, SQL, এবং আরও অনেক ফাইল ফরম্যাটে ডেটা হ্যান্ডল করতে পারে।\n",
        "- **ডেটা ফিল্টার এবং ম্যানিপুলেশন:** ডেটা ফিল্টারিং, সোর্টিং, এবং গ্রুপিং-এর মতো কাজ সহজেই করা যায়।\n",
        "- **মিসিং ডেটা হ্যান্ডলিং:** মিসিং ভ্যালু নিয়ে কাজ করার জন্য কার্যকর পদ্ধতি দেয়।\n",
        "\n",
        "Pandas ব্যবহার করে ডেটা বিশ্লেষণ করা সহজ এবং দ্রুততর হয়, তাই এটি ডেটা সায়েন্স ও মেশিন লার্নিং প্রকল্পগুলিতে বহুল ব্যবহৃত।"
      ],
      "metadata": {
        "id": "J482KI2pQ9iP"
      }
    },
    {
      "cell_type": "code",
      "source": [
        "import pandas as pd"
      ],
      "metadata": {
        "id": "zxlI46EpPQQK"
      },
      "execution_count": null,
      "outputs": []
    },
    {
      "cell_type": "code",
      "source": [
        "pd.__version__"
      ],
      "metadata": {
        "colab": {
          "base_uri": "https://localhost:8080/",
          "height": 36
        },
        "id": "hasf0-UaPWUn",
        "outputId": "a63b6770-b6e9-4557-d4e3-951cab15bf5b"
      },
      "execution_count": null,
      "outputs": [
        {
          "output_type": "execute_result",
          "data": {
            "text/plain": [
              "'2.2.2'"
            ],
            "application/vnd.google.colaboratory.intrinsic+json": {
              "type": "string"
            }
          },
          "metadata": {},
          "execution_count": 3
        }
      ]
    },
    {
      "cell_type": "markdown",
      "source": [
        "#panda series with python list"
      ],
      "metadata": {
        "id": "kf-XvMsCRDow"
      }
    },
    {
      "cell_type": "code",
      "source": [
        "lst=[1,2,3,4,5,6]"
      ],
      "metadata": {
        "id": "hrlund1EPh2I"
      },
      "execution_count": null,
      "outputs": []
    },
    {
      "cell_type": "code",
      "source": [
        "a= pd.Series(lst)\n",
        "a"
      ],
      "metadata": {
        "colab": {
          "base_uri": "https://localhost:8080/",
          "height": 272
        },
        "id": "JqSBz3F5RJ-w",
        "outputId": "cc962dfe-fdc7-4cf2-9873-9247085156e6"
      },
      "execution_count": null,
      "outputs": [
        {
          "output_type": "execute_result",
          "data": {
            "text/plain": [
              "0    1\n",
              "1    2\n",
              "2    3\n",
              "3    4\n",
              "4    5\n",
              "5    6\n",
              "dtype: int64"
            ],
            "text/html": [
              "<div>\n",
              "<style scoped>\n",
              "    .dataframe tbody tr th:only-of-type {\n",
              "        vertical-align: middle;\n",
              "    }\n",
              "\n",
              "    .dataframe tbody tr th {\n",
              "        vertical-align: top;\n",
              "    }\n",
              "\n",
              "    .dataframe thead th {\n",
              "        text-align: right;\n",
              "    }\n",
              "</style>\n",
              "<table border=\"1\" class=\"dataframe\">\n",
              "  <thead>\n",
              "    <tr style=\"text-align: right;\">\n",
              "      <th></th>\n",
              "      <th>0</th>\n",
              "    </tr>\n",
              "  </thead>\n",
              "  <tbody>\n",
              "    <tr>\n",
              "      <th>0</th>\n",
              "      <td>1</td>\n",
              "    </tr>\n",
              "    <tr>\n",
              "      <th>1</th>\n",
              "      <td>2</td>\n",
              "    </tr>\n",
              "    <tr>\n",
              "      <th>2</th>\n",
              "      <td>3</td>\n",
              "    </tr>\n",
              "    <tr>\n",
              "      <th>3</th>\n",
              "      <td>4</td>\n",
              "    </tr>\n",
              "    <tr>\n",
              "      <th>4</th>\n",
              "      <td>5</td>\n",
              "    </tr>\n",
              "    <tr>\n",
              "      <th>5</th>\n",
              "      <td>6</td>\n",
              "    </tr>\n",
              "  </tbody>\n",
              "</table>\n",
              "</div><br><label><b>dtype:</b> int64</label>"
            ]
          },
          "metadata": {},
          "execution_count": 6
        }
      ]
    },
    {
      "cell_type": "code",
      "source": [
        "print(type(a))"
      ],
      "metadata": {
        "colab": {
          "base_uri": "https://localhost:8080/"
        },
        "id": "pzdwl6euRQj-",
        "outputId": "9da11ff4-cd9a-49f6-93f1-de1c035c261f"
      },
      "execution_count": null,
      "outputs": [
        {
          "output_type": "stream",
          "name": "stdout",
          "text": [
            "<class 'pandas.core.series.Series'>\n"
          ]
        }
      ]
    },
    {
      "cell_type": "code",
      "source": [
        "# empty Series\n",
        "b= pd.Series([])\n",
        "print(b)"
      ],
      "metadata": {
        "colab": {
          "base_uri": "https://localhost:8080/"
        },
        "id": "7Tv4e_nqRoqP",
        "outputId": "67820ac1-812e-4832-e354-27a82cd7de3d"
      },
      "execution_count": null,
      "outputs": [
        {
          "output_type": "stream",
          "name": "stdout",
          "text": [
            "Series([], dtype: object)\n"
          ]
        }
      ]
    },
    {
      "cell_type": "code",
      "source": [
        "c= pd.Series([4,5,6,7],index=[11,12,16,15],name='Jamy')\n",
        "c.index.name='Trisha'\n",
        "c\n",
        "max(c)"
      ],
      "metadata": {
        "colab": {
          "base_uri": "https://localhost:8080/"
        },
        "id": "MOURU7LoSRnv",
        "outputId": "768cbc03-57d6-4754-9a14-9d6642fd7240"
      },
      "execution_count": null,
      "outputs": [
        {
          "output_type": "execute_result",
          "data": {
            "text/plain": [
              "7"
            ]
          },
          "metadata": {},
          "execution_count": 34
        }
      ]
    },
    {
      "cell_type": "code",
      "source": [
        "scelar_series = pd.Series(0.3, index=[11,14,15,16])\n",
        "print(scelar_series)"
      ],
      "metadata": {
        "colab": {
          "base_uri": "https://localhost:8080/"
        },
        "id": "HbT48sYGUEGe",
        "outputId": "42dbe97e-e30e-4ff6-ddc6-35577e7ed8c0"
      },
      "execution_count": null,
      "outputs": [
        {
          "output_type": "stream",
          "name": "stdout",
          "text": [
            "11    0.3\n",
            "14    0.3\n",
            "15    0.3\n",
            "16    0.3\n",
            "dtype: float64\n"
          ]
        }
      ]
    },
    {
      "cell_type": "markdown",
      "source": [
        "#pandas with dictionary"
      ],
      "metadata": {
        "id": "p6uITGQCVHQm"
      }
    },
    {
      "cell_type": "code",
      "source": [
        "dict={'ab': 1, 'bc': 2, 'ca': 3}\n",
        "A=pd.Series(dict)\n",
        "A"
      ],
      "metadata": {
        "id": "WL_5wARQSiWN",
        "colab": {
          "base_uri": "https://localhost:8080/",
          "height": 178
        },
        "outputId": "5b612852-d239-4de3-f126-5705c1b47ddd"
      },
      "execution_count": null,
      "outputs": [
        {
          "output_type": "execute_result",
          "data": {
            "text/plain": [
              "ab    1\n",
              "bc    2\n",
              "ca    3\n",
              "dtype: int64"
            ],
            "text/html": [
              "<div>\n",
              "<style scoped>\n",
              "    .dataframe tbody tr th:only-of-type {\n",
              "        vertical-align: middle;\n",
              "    }\n",
              "\n",
              "    .dataframe tbody tr th {\n",
              "        vertical-align: top;\n",
              "    }\n",
              "\n",
              "    .dataframe thead th {\n",
              "        text-align: right;\n",
              "    }\n",
              "</style>\n",
              "<table border=\"1\" class=\"dataframe\">\n",
              "  <thead>\n",
              "    <tr style=\"text-align: right;\">\n",
              "      <th></th>\n",
              "      <th>0</th>\n",
              "    </tr>\n",
              "  </thead>\n",
              "  <tbody>\n",
              "    <tr>\n",
              "      <th>ab</th>\n",
              "      <td>1</td>\n",
              "    </tr>\n",
              "    <tr>\n",
              "      <th>bc</th>\n",
              "      <td>2</td>\n",
              "    </tr>\n",
              "    <tr>\n",
              "      <th>ca</th>\n",
              "      <td>3</td>\n",
              "    </tr>\n",
              "  </tbody>\n",
              "</table>\n",
              "</div><br><label><b>dtype:</b> int64</label>"
            ]
          },
          "metadata": {},
          "execution_count": 32
        }
      ]
    },
    {
      "cell_type": "code",
      "source": [
        "A['ab']"
      ],
      "metadata": {
        "colab": {
          "base_uri": "https://localhost:8080/"
        },
        "id": "gSbSmcmPbyo1",
        "outputId": "8ae17298-f723-444d-d634-aad6cad14b13"
      },
      "execution_count": null,
      "outputs": [
        {
          "output_type": "execute_result",
          "data": {
            "text/plain": [
              "1"
            ]
          },
          "metadata": {},
          "execution_count": 31
        }
      ]
    },
    {
      "cell_type": "code",
      "source": [
        "max(A)"
      ],
      "metadata": {
        "colab": {
          "base_uri": "https://localhost:8080/"
        },
        "id": "Ou0xgkTZcY44",
        "outputId": "26590d78-86db-4c71-e561-3d872d158fe2"
      },
      "execution_count": null,
      "outputs": [
        {
          "output_type": "execute_result",
          "data": {
            "text/plain": [
              "3"
            ]
          },
          "metadata": {},
          "execution_count": 33
        }
      ]
    },
    {
      "cell_type": "code",
      "source": [
        "dict={'ab': 'Jbmy', 'bc': 'Jamy', 'ca': 'Jccy'}#lexicographically smallest\n",
        "A=pd.Series(dict)\n",
        "A"
      ],
      "metadata": {
        "colab": {
          "base_uri": "https://localhost:8080/",
          "height": 178
        },
        "id": "BYw6aA8Ickdn",
        "outputId": "195b8cfc-7f9f-4520-b2f0-e3dc6ea6466e"
      },
      "execution_count": null,
      "outputs": [
        {
          "output_type": "execute_result",
          "data": {
            "text/plain": [
              "ab    Jbmy\n",
              "bc    Jamy\n",
              "ca    Jccy\n",
              "dtype: object"
            ],
            "text/html": [
              "<div>\n",
              "<style scoped>\n",
              "    .dataframe tbody tr th:only-of-type {\n",
              "        vertical-align: middle;\n",
              "    }\n",
              "\n",
              "    .dataframe tbody tr th {\n",
              "        vertical-align: top;\n",
              "    }\n",
              "\n",
              "    .dataframe thead th {\n",
              "        text-align: right;\n",
              "    }\n",
              "</style>\n",
              "<table border=\"1\" class=\"dataframe\">\n",
              "  <thead>\n",
              "    <tr style=\"text-align: right;\">\n",
              "      <th></th>\n",
              "      <th>0</th>\n",
              "    </tr>\n",
              "  </thead>\n",
              "  <tbody>\n",
              "    <tr>\n",
              "      <th>ab</th>\n",
              "      <td>Jbmy</td>\n",
              "    </tr>\n",
              "    <tr>\n",
              "      <th>bc</th>\n",
              "      <td>Jamy</td>\n",
              "    </tr>\n",
              "    <tr>\n",
              "      <th>ca</th>\n",
              "      <td>Jccy</td>\n",
              "    </tr>\n",
              "  </tbody>\n",
              "</table>\n",
              "</div><br><label><b>dtype:</b> object</label>"
            ]
          },
          "metadata": {},
          "execution_count": 38
        }
      ]
    },
    {
      "cell_type": "code",
      "source": [
        "max(A)"
      ],
      "metadata": {
        "colab": {
          "base_uri": "https://localhost:8080/",
          "height": 36
        },
        "id": "4j_TWVwwct2Z",
        "outputId": "fbea8213-f92b-46a3-c158-288265c171cf"
      },
      "execution_count": null,
      "outputs": [
        {
          "output_type": "execute_result",
          "data": {
            "text/plain": [
              "'Jccy'"
            ],
            "application/vnd.google.colaboratory.intrinsic+json": {
              "type": "string"
            }
          },
          "metadata": {},
          "execution_count": 40
        }
      ]
    },
    {
      "cell_type": "code",
      "source": [
        "dict={'ab': [1,2,3], 'bc': [4,5,6], 'ca': [7,8,9]}# key er vitore onk gula list\n",
        "B=pd.Series(dict)\n",
        "B\n"
      ],
      "metadata": {
        "colab": {
          "base_uri": "https://localhost:8080/",
          "height": 178
        },
        "id": "z_UAGZ7qdIKZ",
        "outputId": "c35c69da-2688-4bdd-99b9-4a41c75581f0"
      },
      "execution_count": null,
      "outputs": [
        {
          "output_type": "execute_result",
          "data": {
            "text/plain": [
              "ab    [1, 2, 3]\n",
              "bc    [4, 5, 6]\n",
              "ca    [7, 8, 9]\n",
              "dtype: object"
            ],
            "text/html": [
              "<div>\n",
              "<style scoped>\n",
              "    .dataframe tbody tr th:only-of-type {\n",
              "        vertical-align: middle;\n",
              "    }\n",
              "\n",
              "    .dataframe tbody tr th {\n",
              "        vertical-align: top;\n",
              "    }\n",
              "\n",
              "    .dataframe thead th {\n",
              "        text-align: right;\n",
              "    }\n",
              "</style>\n",
              "<table border=\"1\" class=\"dataframe\">\n",
              "  <thead>\n",
              "    <tr style=\"text-align: right;\">\n",
              "      <th></th>\n",
              "      <th>0</th>\n",
              "    </tr>\n",
              "  </thead>\n",
              "  <tbody>\n",
              "    <tr>\n",
              "      <th>ab</th>\n",
              "      <td>[1, 2, 3]</td>\n",
              "    </tr>\n",
              "    <tr>\n",
              "      <th>bc</th>\n",
              "      <td>[4, 5, 6]</td>\n",
              "    </tr>\n",
              "    <tr>\n",
              "      <th>ca</th>\n",
              "      <td>[7, 8, 9]</td>\n",
              "    </tr>\n",
              "  </tbody>\n",
              "</table>\n",
              "</div><br><label><b>dtype:</b> object</label>"
            ]
          },
          "metadata": {},
          "execution_count": 42
        }
      ]
    },
    {
      "cell_type": "markdown",
      "source": [
        "#Pandas DataFrame"
      ],
      "metadata": {
        "id": "dboExDy5f50D"
      }
    },
    {
      "cell_type": "code",
      "source": [],
      "metadata": {
        "id": "1akKpyF2f8Bk"
      },
      "execution_count": null,
      "outputs": []
    }
  ]
}